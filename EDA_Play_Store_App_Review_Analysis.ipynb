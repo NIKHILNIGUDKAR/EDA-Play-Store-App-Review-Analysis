{
  "nbformat": 4,
  "nbformat_minor": 0,
  "metadata": {
    "colab": {
      "private_outputs": true,
      "provenance": [],
      "collapsed_sections": [
        "vncDsAP0Gaoa",
        "FJNUwmbgGyua",
        "w6K7xa23Elo4",
        "yQaldy8SH6Dl",
        "PH-0ReGfmX4f",
        "mDgbUHAGgjLW",
        "O_i_v8NEhb9l",
        "HhfV-JJviCcP",
        "Y3lxredqlCYt",
        "3RnN4peoiCZX",
        "x71ZqKXriCWQ",
        "7hBIi_osiCS2",
        "JlHwYmJAmNHm",
        "35m5QtbWiB9F",
        "PoPl-ycgm1ru",
        "H0kj-8xxnORC",
        "nA9Y7ga8ng1Z",
        "PBTbrJXOngz2",
        "u3PMJOP6ngxN",
        "dauF4eBmngu3",
        "bKJF3rekwFvQ",
        "MSa1f5Uengrz",
        "GF8Ens_Soomf",
        "0wOQAZs5pc--",
        "K5QZ13OEpz2H",
        "lQ7QKXXCp7Bj",
        "448CDAPjqfQr",
        "KSlN3yHqYklG",
        "t6dVpIINYklI",
        "ijmpgYnKYklI",
        "-JiQyfWJYklI",
        "EM7whBJCYoAo",
        "fge-S5ZAYoAp",
        "85gYPyotYoAp",
        "RoGjAbkUYoAp",
        "4Of9eVA-YrdM",
        "iky9q4vBYrdO",
        "F6T5p64dYrdO",
        "y-Ehk30pYrdP",
        "bamQiAODYuh1",
        "QHF8YVU7Yuh3",
        "GwzvFGzlYuh3",
        "qYpmQ266Yuh3",
        "OH-pJp9IphqM",
        "bbFf2-_FphqN",
        "_ouA3fa0phqN",
        "Seke61FWphqN",
        "PIIx-8_IphqN",
        "t27r6nlMphqO",
        "r2jJGEOYphqO",
        "b0JNsNcRphqO",
        "BZR9WyysphqO",
        "jj7wYXLtphqO",
        "eZrbJ2SmphqO",
        "rFu4xreNphqO",
        "YJ55k-q6phqO",
        "gCFgpxoyphqP",
        "OVtJsKN_phqQ",
        "lssrdh5qphqQ",
        "U2RJ9gkRphqQ",
        "1M8mcRywphqQ",
        "tgIPom80phqQ",
        "JMzcOPDDphqR",
        "x-EpHcCOp1ci",
        "X_VqEhTip1ck",
        "8zGJKyg5p1ck",
        "PVzmfK_Ep1ck",
        "n3dbpmDWp1ck",
        "ylSl6qgtp1ck",
        "ZWILFDl5p1ck",
        "M7G43BXep1ck",
        "Ag9LCva-p1cl",
        "E6MkPsBcp1cl",
        "2cELzS2fp1cl",
        "3MPXvC8up1cl",
        "NC_X3p0fY2L0",
        "UV0SzAkaZNRQ",
        "YPEH6qLeZNRQ",
        "q29F0dvdveiT",
        "EXh0U9oCveiU",
        "22aHeOlLveiV",
        "JcMwzZxoAimU",
        "8G2x9gOozGDZ",
        "gCX9965dhzqZ",
        "gIfDvo9L0UH2"
      ]
    },
    "kernelspec": {
      "name": "python3",
      "display_name": "Python 3"
    },
    "language_info": {
      "name": "python"
    }
  },
  "cells": [
    {
      "cell_type": "markdown",
      "source": [
        "# Project Name - Play Store App Review Analysis![1_75SwvWQrspM0aKlN02uWTQ.webp](data:image/webp;base64,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)"
      ],
      "metadata": {
        "id": "ArRrJQz3jzzr"
      }
    },
    {
      "cell_type": "markdown",
      "source": [
        "##### **Project Type**    - Exploratory Data Analysis\n",
        "##### **Contribution**    - Individual\n",
        "##### **Team Member 1 -** Nikhil Nagesh Nigudkar\n"
      ],
      "metadata": {
        "id": "beRrZCGUAJYm"
      }
    },
    {
      "cell_type": "markdown",
      "source": [
        "# **Project Summary -**"
      ],
      "metadata": {
        "id": "FJNUwmbgGyua"
      }
    },
    {
      "cell_type": "markdown",
      "source": [
        "* Android is most popular Operating System with 2.5 Billion active user. Android is the dominant mobile operating system today with about 85% of all mobile devices running Google’s OS. The Google Play Store is the largest and most popular Android app store.\n",
        "\n",
        "* Play Store apps data has enormous potential to drive app-making businesses to success. Actionable insights can be drawn for developers to work on and capture the Android market.\n",
        "\n",
        "* <b>Goals of Project</b> - The purpose of our project was to gather and analyze detailed information on apps in the Google Play Store in order to provide insights on app features and the current state of the Android app market.\n",
        "\n",
        "* The Objective of our project to Explore and analyse the Data to discover key factor responsible for app engagement and recommend best fit and features that would lead to app success\n",
        "\n",
        "* We have tried to discover the relationships among various attributes such as which application is free or paid, what are the user reviews, rating of the application.\n",
        "\n",
        "\n",
        "\n"
      ],
      "metadata": {
        "id": "F6v_1wHtG2nS"
      }
    },
    {
      "cell_type": "markdown",
      "source": [
        "# **GitHub Link -**"
      ],
      "metadata": {
        "id": "w6K7xa23Elo4"
      }
    },
    {
      "cell_type": "markdown",
      "source": [
        "https://github.com/NIKHILNIGUDKAR/EDA---Play-Store-App-Review-Analysis"
      ],
      "metadata": {
        "id": "h1o69JH3Eqqn"
      }
    },
    {
      "cell_type": "markdown",
      "source": [
        "# **Problem Statement**\n"
      ],
      "metadata": {
        "id": "yQaldy8SH6Dl"
      }
    },
    {
      "cell_type": "markdown",
      "source": [
        "**Android is expanding as an operating system. It has captured around 74% of the total market which is a true indicator of the huge amount of population using android. Our goal is to help android developers to know what is the motivating factor for people to download an app. It will also help to find out the factors that affect someone’s decision to download an app. I would like to analyse category, reviews, price, ratings and installs for this purpose and find out how they are inter related.**\n",
        "\n",
        "\n",
        "#### There have some Problem Statements that are very useful for finding the insight from given Dataset -\n",
        "\n",
        "* Which category has most number of installations.\n",
        "* Top 5 poor app in refrence of installation.\n",
        "* Top Category on Play Store.\n",
        "* How Rating is important for Application.\n",
        "* Find number of app in refrence of Free or Paid.\n",
        "* Top 5 app with the maximum installation.\n"
      ],
      "metadata": {
        "id": "DpeJGUA3kjGy"
      }
    },
    {
      "cell_type": "markdown",
      "source": [
        "#### **Define Your Business Objective?**"
      ],
      "metadata": {
        "id": "PH-0ReGfmX4f"
      }
    },
    {
      "cell_type": "markdown",
      "source": [
        "##### The objective of my analysis is to provide insights about android applications and their categories.\n",
        "\n",
        "* To deep dive in data for the factors of influences on an application, to know why and how certain applications succeed and others.\n",
        "* Finds the key Factor that are responsible for app engagement.\n",
        "* Study the detailed information of app and analyse them.\n",
        "* Finds which attributes are most important for application.\n",
        "* To know what is required for an application to be considered as successfully topping the charts"
      ],
      "metadata": {
        "id": "PhDvGCAqmjP1"
      }
    },
    {
      "cell_type": "markdown",
      "source": [
        "# **General Guidelines** : -  "
      ],
      "metadata": {
        "id": "mDgbUHAGgjLW"
      }
    },
    {
      "cell_type": "markdown",
      "source": [
        "1.   Well-structured, formatted, and commented code is required.\n",
        "2.   Exception Handling, Production Grade Code & Deployment Ready Code will be a plus. Those students will be awarded some additional credits.\n",
        "     \n",
        "     The additional credits will have advantages over other students during Star Student selection.\n",
        "       \n",
        "             [ Note: - Deployment Ready Code is defined as, the whole .ipynb notebook should be executable in one go\n",
        "                       without a single error logged. ]\n",
        "\n",
        "3.   Each and every logic should have proper comments.\n",
        "4. You may add as many number of charts you want. Make Sure for each and every chart the following format should be answered.\n",
        "        \n",
        "\n",
        "```\n",
        "# Chart visualization code\n",
        "```\n",
        "            \n",
        "\n",
        "*   Why did you pick the specific chart?\n",
        "*   What is/are the insight(s) found from the chart?\n",
        "* Will the gained insights help creating a positive business impact?\n",
        "Are there any insights that lead to negative growth? Justify with specific reason.\n",
        "\n",
        "5. You have to create at least 20 logical & meaningful charts having important insights.\n",
        "\n",
        "\n",
        "[ Hints : - Do the Vizualization in  a structured way while following \"UBM\" Rule.\n",
        "\n",
        "U - Univariate Analysis,\n",
        "\n",
        "B - Bivariate Analysis (Numerical - Categorical, Numerical - Numerical, Categorical - Categorical)\n",
        "\n",
        "M - Multivariate Analysis\n",
        " ]\n",
        "\n",
        "\n",
        "\n"
      ],
      "metadata": {
        "id": "ZrxVaUj-hHfC"
      }
    },
    {
      "cell_type": "markdown",
      "source": [
        "# ***Let's Begin !***"
      ],
      "metadata": {
        "id": "O_i_v8NEhb9l"
      }
    },
    {
      "cell_type": "markdown",
      "source": [
        "## ***1. Know Your Data***"
      ],
      "metadata": {
        "id": "HhfV-JJviCcP"
      }
    },
    {
      "cell_type": "markdown",
      "source": [
        "### Import Libraries"
      ],
      "metadata": {
        "id": "Y3lxredqlCYt"
      }
    },
    {
      "cell_type": "code",
      "source": [
        "#Importing the required libraries\n",
        "import pandas as pd\n",
        "import numpy as np\n",
        "import seaborn as sns\n",
        "import matplotlib.pyplot as plt\n",
        "import warnings\n",
        "warnings.filterwarnings('ignore')\n",
        "import missingno as msno\n",
        "\n",
        "plt.rcParams.update({'font.size':14}) #fontsize for whole notebook\n",
        "#To keep graph visible even after disconnet  import %matplotlib inline\n",
        "%matplotlib inline\n"
      ],
      "metadata": {
        "id": "M8Vqi-pPk-HR"
      },
      "execution_count": null,
      "outputs": []
    },
    {
      "cell_type": "markdown",
      "source": [
        "### Dataset Loading"
      ],
      "metadata": {
        "id": "3RnN4peoiCZX"
      }
    },
    {
      "cell_type": "code",
      "source": [
        "# Load Dataset and Loading the drive\n",
        "from google.colab import drive\n",
        "drive.mount('/content/drive')"
      ],
      "metadata": {
        "id": "4CkvbW_SlZ_R"
      },
      "execution_count": null,
      "outputs": []
    },
    {
      "cell_type": "code",
      "source": [
        "# reading data file\n",
        "dir_path = '/content/drive/MyDrive/Classroom/'\n",
        "file_name = 'Play Store Data.csv'\n",
        "playstore_file_path = dir_path + file_name\n",
        "df = pd.read_csv(playstore_file_path)"
      ],
      "metadata": {
        "id": "H6O2ndJ2K9gN"
      },
      "execution_count": null,
      "outputs": []
    },
    {
      "cell_type": "code",
      "source": [
        "from google.colab import drive\n",
        "drive.mount('/content/drive')"
      ],
      "metadata": {
        "id": "Egr05d6GMVpb"
      },
      "execution_count": null,
      "outputs": []
    },
    {
      "cell_type": "markdown",
      "source": [
        "### Dataset First View"
      ],
      "metadata": {
        "id": "x71ZqKXriCWQ"
      }
    },
    {
      "cell_type": "code",
      "source": [
        "# Dataset First Look\n",
        "df.head()"
      ],
      "metadata": {
        "id": "LWNFOSvLl09H"
      },
      "execution_count": null,
      "outputs": []
    },
    {
      "cell_type": "markdown",
      "source": [
        "### Dataset Rows & Columns count"
      ],
      "metadata": {
        "id": "7hBIi_osiCS2"
      }
    },
    {
      "cell_type": "code",
      "source": [
        "# Dataset Rows & Columns count\n",
        "df.shape"
      ],
      "metadata": {
        "id": "Kllu7SJgmLij"
      },
      "execution_count": null,
      "outputs": []
    },
    {
      "cell_type": "markdown",
      "source": [
        "### Dataset Information"
      ],
      "metadata": {
        "id": "JlHwYmJAmNHm"
      }
    },
    {
      "cell_type": "code",
      "source": [
        "# Dataset Info\n",
        "df.info()"
      ],
      "metadata": {
        "id": "e9hRXRi6meOf"
      },
      "execution_count": null,
      "outputs": []
    },
    {
      "cell_type": "markdown",
      "source": [
        "#### Duplicate Values"
      ],
      "metadata": {
        "id": "35m5QtbWiB9F"
      }
    },
    {
      "cell_type": "code",
      "source": [
        "# Dataset Duplicate Value Count\n",
        "duplicate = df.duplicated().sum()\n",
        "print(duplicate)"
      ],
      "metadata": {
        "id": "1sLdpKYkmox0"
      },
      "execution_count": null,
      "outputs": []
    },
    {
      "cell_type": "markdown",
      "source": [
        "**When we see duplicate counts we found 483 duplicate values**\n",
        "\n"
      ],
      "metadata": {
        "id": "DsnU7kVWxmA-"
      }
    },
    {
      "cell_type": "markdown",
      "source": [
        "#### Missing Values/Null Values"
      ],
      "metadata": {
        "id": "PoPl-ycgm1ru"
      }
    },
    {
      "cell_type": "code",
      "source": [
        "# Missing Values/Null Values Count\n",
        "missing_values = df.isna().sum()\n",
        "print(missing_values)"
      ],
      "metadata": {
        "id": "GgHWkxvamxVg"
      },
      "execution_count": null,
      "outputs": []
    },
    {
      "cell_type": "code",
      "source": [
        "# Visualizing the missing values\n",
        "msno.matrix(df)"
      ],
      "metadata": {
        "id": "3q5wnI3om9sJ"
      },
      "execution_count": null,
      "outputs": []
    },
    {
      "cell_type": "markdown",
      "source": [
        "### What did you know about your dataset?"
      ],
      "metadata": {
        "id": "H0kj-8xxnORC"
      }
    },
    {
      "cell_type": "markdown",
      "source": [
        "we see that *except ratings other values are of object type*, so we need to evalvulate the fields with respect to there values such as int or other respective column type.\n",
        "\n",
        "Following are the counts for null values:\n",
        "\n",
        "1. Ratings : 1474\n",
        "2. Type : 1\n",
        "3. Content Rating : 1\n",
        "4. Current Ver : 8\n",
        "5. Android Ver : 3"
      ],
      "metadata": {
        "id": "gfoNAAC-nUe_"
      }
    },
    {
      "cell_type": "markdown",
      "source": [
        "**The following columns are listed in the dataframe**\n",
        "\n",
        "\n",
        "* App : indicates the name of the apps (this column has duplicate values in the rows)\n",
        "* Category : this indicates the various categories of the apps\n",
        "* Rating: this indicates the ratings recieved by the respective apps\n",
        "* Reviews: this indicates the number or reviews recieved by the app\n",
        "* Size :indicates the size of the app\n",
        "* Installs: indicates the number of installs of the respective app\n",
        "* Type: Shows the type of the app which is free or paid\n",
        "* Price: this field shows the price of the fields, 0 for free and amount if paid\n",
        "* Content Rating:shows the targated audiance of the app and what type of audiance has reviewed the app\n",
        "* Genres: shows the Genre of the app, (same as category)\n",
        "* Last Updated: shows the latest date of the app that has updated\n",
        "* Current Ver: shows the latest version of the app\n",
        "* Androaid Ver: shows the version of android which can support the given app"
      ],
      "metadata": {
        "id": "Q14G44qV1dHM"
      }
    },
    {
      "cell_type": "markdown",
      "source": [
        "## ***2. Understanding Your Variables***"
      ],
      "metadata": {
        "id": "nA9Y7ga8ng1Z"
      }
    },
    {
      "cell_type": "code",
      "source": [
        "# Dataset Columns\n",
        "df.columns"
      ],
      "metadata": {
        "id": "j7xfkqrt5Ag5"
      },
      "execution_count": null,
      "outputs": []
    },
    {
      "cell_type": "code",
      "source": [
        "# Dataset Describe\n",
        "df.describe()\n",
        "print(df.info())"
      ],
      "metadata": {
        "id": "DnOaZdaE5Q5t"
      },
      "execution_count": null,
      "outputs": []
    },
    {
      "cell_type": "markdown",
      "source": [
        "### Variables Description"
      ],
      "metadata": {
        "id": "PBTbrJXOngz2"
      }
    },
    {
      "cell_type": "markdown",
      "source": [
        "**The following columns are listed in the dataframe**\n",
        "\n",
        "1.App : indicates the name of the apps (this column has duplicate values in the rows)\n",
        "2. Category : this indicates the various categories of the apps\n",
        "3. Rating: this indicates the ratings recieved by the respective apps\n",
        "4. Reviews: this indicates the number or reviews recieved by the app\n",
        "5. Size :indicates the size of the app\n",
        "6. Installs: indicates the number of installs of the respective app\n",
        "7. Type: Shows the type of the app which is free or paid\n",
        "8. Price: this field shows the price of the fields, 0 for free and amount if paid\n",
        "9. Content Rating:shows the targated audiance of the app and what type of audiance has reviewed the app\n",
        "10. Genres: shows the Genre of the app, (same as category)\n",
        "11. Last Updated: shows the latest date of the app that has updated\n",
        "12. Current Ver: shows the latest version of the app\n",
        "13. Androaid Ver: shows the version of android which can support the given app"
      ],
      "metadata": {
        "id": "aJV4KIxSnxay"
      }
    },
    {
      "cell_type": "markdown",
      "source": [
        "### Check Unique Values for each variable."
      ],
      "metadata": {
        "id": "u3PMJOP6ngxN"
      }
    },
    {
      "cell_type": "code",
      "source": [
        "# Check Unique Values for each variable.\n",
        "for column in df.columns:\n",
        "  res = len(df[column].unique())\n",
        "  print(f\"The number of variables in {column} column are: {res}\")"
      ],
      "metadata": {
        "id": "zms12Yq5n-jE"
      },
      "execution_count": null,
      "outputs": []
    },
    {
      "cell_type": "markdown",
      "source": [
        "## 3. ***Data Wrangling***"
      ],
      "metadata": {
        "id": "dauF4eBmngu3"
      }
    },
    {
      "cell_type": "markdown",
      "source": [
        "### Data Wrangling Code"
      ],
      "metadata": {
        "id": "bKJF3rekwFvQ"
      }
    },
    {
      "cell_type": "code",
      "source": [
        "# Write your code to make your dataset analysis ready.\n",
        "def convert_int(x):\n",
        "  ''' this function takes the object and removes ',' + , M, k, $ returns it\n",
        "  after evalvating by the function eval\n",
        "  '''\n",
        "  # print('Evalvating...')\n",
        "  # try:\n",
        "\n",
        "  if x.isdigit():         # Checking if the object is alread integer to and converting it before itterating if loops for making the function more optimised\n",
        "      return eval(x)\n",
        "  else:\n",
        "      if ',' in x:          #writing series of if condition to reduce the operations complexity on the objects\n",
        "        x=x.replace(',','')\n",
        "      if '+' in x:          #this occurs in installs colum, so we are removing the same to have a proper int format\n",
        "        x=x.replace('+','')\n",
        "      if 'M' in x:\n",
        "        x=x.replace('M','')        # since this value occurs in Size we are converting Millions to int format by adding 6 zeros to the same\n",
        "        x= eval(x)\n",
        "        x = x * 10**6\n",
        "        return x\n",
        "        # x=x.replace('M','')\n",
        "      if 'k' in x:          # since this value occurs in Size we are converting Kilo to int format by adding 3 zeros to the same\n",
        "        x=x.replace('k','')\n",
        "        x = eval(x)\n",
        "        x= x * 10**3\n",
        "        return x\n",
        "        # x=x.replace('k','')\n",
        "      if '$' in x:\n",
        "        x=x.replace('$','') #this occurs in price column, so we are taking out the $ symbol\n",
        "      if x=='Free' or x=='Varies with device'or x=='Everyone':    #there are some columns entered with missplaced values, setting them to zero.\n",
        "        x=0\n",
        "      else:\n",
        "        x= eval(x)\n",
        "      return x"
      ],
      "metadata": {
        "id": "wk-9a2fpoLcV"
      },
      "execution_count": null,
      "outputs": []
    },
    {
      "cell_type": "code",
      "source": [
        "df['Reviews'] = df['Reviews'].apply(convert_int)\n",
        "df['Size'] = df['Size'].apply(convert_int)\n",
        "df['Installs'] = df['Installs'].apply(convert_int)\n",
        "df['Price'] = df['Price'].apply(convert_int)"
      ],
      "metadata": {
        "id": "NiMY2mA_2z2R"
      },
      "execution_count": null,
      "outputs": []
    },
    {
      "cell_type": "markdown",
      "source": [
        "### What all manipulations have you done and insights you found?"
      ],
      "metadata": {
        "id": "MSa1f5Uengrz"
      }
    },
    {
      "cell_type": "markdown",
      "source": [
        "After doing various analysis accross apps, the following manipulations are done\n",
        "\n"
      ],
      "metadata": {
        "id": "LbyXE7I1olp8"
      }
    },
    {
      "cell_type": "code",
      "source": [
        "# we see that there is one rating value that is 19 which could be human error, this may affect the median value in further steps, so we set it as 1.9.\n",
        "df.loc[df['Rating'] == 19, 'Rating'] = 1.9"
      ],
      "metadata": {
        "id": "MVnS3jRh3HbH"
      },
      "execution_count": null,
      "outputs": []
    },
    {
      "cell_type": "code",
      "source": [
        "x = df.Rating.unique()\n",
        "x.sort()\n",
        "print(x)"
      ],
      "metadata": {
        "id": "yFggRzr73j_i"
      },
      "execution_count": null,
      "outputs": []
    },
    {
      "cell_type": "code",
      "source": [
        "#replacing underscore values by space\n",
        "def remove_underscores(x):\n",
        "  if '_' in x:\n",
        "    x = x.replace('_', ' ')\n",
        "  return x"
      ],
      "metadata": {
        "id": "xy5FgBfL3moN"
      },
      "execution_count": null,
      "outputs": []
    },
    {
      "cell_type": "code",
      "source": [
        "# applying 'remove_underscores' function on category column\n",
        "\n",
        "df['Category'] = df['Category'].apply(remove_underscores)"
      ],
      "metadata": {
        "id": "Ekgzgnj84Jc4"
      },
      "execution_count": null,
      "outputs": []
    },
    {
      "cell_type": "code",
      "source": [
        "#finding null values\n",
        "df.isna().sum()"
      ],
      "metadata": {
        "id": "3wLmTMJ14M81"
      },
      "execution_count": null,
      "outputs": []
    },
    {
      "cell_type": "markdown",
      "source": [
        "**we see that the following are null values.**\n",
        "\n",
        "1. Rating: 1474\n",
        "\n",
        "2. Type: 1\n",
        "\n",
        "3. Content Rating: 1\n",
        "\n",
        "4. Current Ver: 8\n",
        "\n",
        "5. Android Ver: 3"
      ],
      "metadata": {
        "id": "gQf4pP7b4YjW"
      }
    },
    {
      "cell_type": "markdown",
      "source": [
        "**since there are many values in ratings that can be replaced with median values**\n"
      ],
      "metadata": {
        "id": "eYeerHon4tOR"
      }
    },
    {
      "cell_type": "code",
      "source": [
        "plt.title('Distribution plot of Rating Feature')\n",
        "#By ploting distribution plot we can choose between mean amd median.\n",
        "sns.histplot(df['Rating'],kde = True)\n",
        ""
      ],
      "metadata": {
        "id": "liT94dE04UD6"
      },
      "execution_count": null,
      "outputs": []
    },
    {
      "cell_type": "code",
      "source": [
        "# In this case we use median to have A Normal Distribution\n",
        "median_value_for_ratings = df['Rating'].median()\n",
        "median_value_for_ratings = round(median_value_for_ratings, 2)\n",
        "df['Rating'] = df['Rating'].fillna(median_value_for_ratings)\n",
        "print(f'the values for null us updated as {median_value_for_ratings}')"
      ],
      "metadata": {
        "id": "DS1QBOfY56TT"
      },
      "execution_count": null,
      "outputs": []
    },
    {
      "cell_type": "code",
      "source": [
        "#since the other values are minum null values, we drop them\n",
        "df = df.dropna(subset = ['Type', 'Content Rating', 'Current Ver', 'Android Ver'])"
      ],
      "metadata": {
        "id": "wGAJacbs55_b"
      },
      "execution_count": null,
      "outputs": []
    },
    {
      "cell_type": "code",
      "source": [
        "#Dataset Duplicate Value Count\n",
        "dup = df['App'].duplicated().sum()\n",
        "print(dup)"
      ],
      "metadata": {
        "id": "SoY6d-G_6G1o"
      },
      "execution_count": null,
      "outputs": []
    },
    {
      "cell_type": "markdown",
      "source": [
        "**we see that there are 1181 duplicated rows in app names colums, so we are keeping the first and dropping the remaing**"
      ],
      "metadata": {
        "id": "dfTty9Rt6PWH"
      }
    },
    {
      "cell_type": "code",
      "source": [
        "#we see that there are duplicate names off apps in apps column, so dropping duplicates and keeping first\n",
        "df = df.drop_duplicates(subset=['App'],keep=\"first\")"
      ],
      "metadata": {
        "id": "wRRWVC6B6TBz"
      },
      "execution_count": null,
      "outputs": []
    },
    {
      "cell_type": "markdown",
      "source": [
        "**Summary of data Manipulation**\n",
        "\n",
        "* Rating had 1474 null values which contributes 13.60% of the data so * The null values are replaced by median ie 4.3\n",
        "The following null values are dropped\n",
        "\n",
        "    * Type had 1 null value which contributes 0.01% of the data.\n",
        "    * Content Rating had 1 null value which contributes 0.01% of the data.\n",
        "    * Current Ver had 8 null values which contributes 0.07% of the data.\n",
        "    * Android Ver had 3 null values which contributes 0.03% of the data.\n",
        "The following actions are taken\n",
        "\n",
        "* Removed Outliers from Rating column.\n",
        "* Removed underscore from Required columns.\n",
        "* Converted the Data types from object to int or float.\n",
        "* Handling the missing value.\n",
        "* Solving the Structural Error."
      ],
      "metadata": {
        "id": "xatcnpqo6eGD"
      }
    },
    {
      "cell_type": "markdown",
      "source": [
        "**After data cleaning and manipulation, we are now again analysing the data for understanig if all the discrepancies are gone**"
      ],
      "metadata": {
        "id": "DXBp50b_vd_r"
      }
    },
    {
      "cell_type": "code",
      "source": [
        "df.info()"
      ],
      "metadata": {
        "id": "DmqdLTVL6ZO3"
      },
      "execution_count": null,
      "outputs": []
    },
    {
      "cell_type": "code",
      "source": [
        "df.describe()"
      ],
      "metadata": {
        "id": "XShu3SEc6Y6p"
      },
      "execution_count": null,
      "outputs": []
    },
    {
      "cell_type": "code",
      "source": [
        "df.head()"
      ],
      "metadata": {
        "id": "Nounfysg6Y3X"
      },
      "execution_count": null,
      "outputs": []
    },
    {
      "cell_type": "markdown",
      "source": [
        "## ***4. Data Vizualization, Storytelling & Experimenting with charts : Understand the relationships between variables***"
      ],
      "metadata": {
        "id": "GF8Ens_Soomf"
      }
    },
    {
      "cell_type": "markdown",
      "source": [
        "#### Chart - 1"
      ],
      "metadata": {
        "id": "0wOQAZs5pc--"
      }
    },
    {
      "cell_type": "markdown",
      "source": [
        "**Free Vs Paid apps with respect to categories**"
      ],
      "metadata": {
        "id": "9s8dg2BBv9dA"
      }
    },
    {
      "cell_type": "code",
      "source": [
        "# Chart - 1 visualization code\n",
        "# Chart - 3 visualization code\n",
        "category_price_counts = df.groupby(['Category', 'Type']).size().unstack()\n",
        "\n",
        "#plotting\n",
        "total_counts = category_price_counts.sum(axis=1)\n",
        "category_price_ratios = category_price_counts.div(total_counts, axis=0) * 100\n",
        "\n",
        "# create a stacked bar chart\n",
        "category_price_ratios.plot(kind='bar', stacked=True)\n",
        "plt.title('Percentage of Free and Paid Apps by Category')\n",
        "plt.xlabel('Category')\n",
        "plt.ylabel('Percentage')\n",
        "plt.legend(title='Price Type')\n",
        "plt.show()"
      ],
      "metadata": {
        "id": "7v_ESjsspbW7"
      },
      "execution_count": null,
      "outputs": []
    },
    {
      "cell_type": "markdown",
      "source": [
        "##### 1. Why did you pick the specific chart?"
      ],
      "metadata": {
        "id": "K5QZ13OEpz2H"
      }
    },
    {
      "cell_type": "markdown",
      "source": [
        "A stacked bar plot shows the percentage for all app categories by type(free and paid)\n",
        "\n"
      ],
      "metadata": {
        "id": "XESiWehPqBRc"
      }
    },
    {
      "cell_type": "markdown",
      "source": [
        "##### 2. What is/are the insight(s) found from the chart?"
      ],
      "metadata": {
        "id": "lQ7QKXXCp7Bj"
      }
    },
    {
      "cell_type": "markdown",
      "source": [
        "We se that the percentage of paid apps in personelization and Medical are more."
      ],
      "metadata": {
        "id": "C_j1G7yiqdRP"
      }
    },
    {
      "cell_type": "markdown",
      "source": [
        "##### 3. Will the gained insights help creating a positive business impact?\n",
        "Are there any insights that lead to negative growth? Justify with specific reason."
      ],
      "metadata": {
        "id": "448CDAPjqfQr"
      }
    },
    {
      "cell_type": "markdown",
      "source": [
        "We can infer the ratio in percent wise distrubution at category level in the above plot, we see that the percent of Personalization and Medical app have more number of paid apps compare to other categories"
      ],
      "metadata": {
        "id": "3cspy4FjqxJW"
      }
    },
    {
      "cell_type": "markdown",
      "source": [
        "#### Chart - 2"
      ],
      "metadata": {
        "id": "KSlN3yHqYklG"
      }
    },
    {
      "cell_type": "markdown",
      "source": [
        "**Number of Apps Per Category count plot and Pie plot(pie code is commented)**"
      ],
      "metadata": {
        "id": "i0ZmT0ZiwWAA"
      }
    },
    {
      "cell_type": "code",
      "source": [
        "# Chart - 2 visualization code\n",
        "# Get the number of apps for each category using Count Plot\n",
        "\n",
        "sns.set_style('darkgrid')\n",
        "plt.figure(figsize=(20, 5))\n",
        "\n",
        "sns.countplot(x='Category', data=df)\n",
        "\n",
        "plt.title('Number of Apps Per Category', fontsize = 25)\n",
        "plt.xticks(rotation=90)\n",
        "plt.ylabel('Number of Apps')\n",
        "\n"
      ],
      "metadata": {
        "id": "R4YgtaqtYklH"
      },
      "execution_count": null,
      "outputs": []
    },
    {
      "cell_type": "markdown",
      "source": [
        "##### 1. Why did you pick the specific chart?"
      ],
      "metadata": {
        "id": "t6dVpIINYklI"
      }
    },
    {
      "cell_type": "markdown",
      "source": [
        "We have plotted 2 types of chart to get the understanding for better, seaborn count plot and Pie(the commented code) explain better way to demonstrate the share of the number of apps accross various categories."
      ],
      "metadata": {
        "id": "5aaW0BYyYklI"
      }
    },
    {
      "cell_type": "markdown",
      "source": [
        "##### 2. What is/are the insight(s) found from the chart?"
      ],
      "metadata": {
        "id": "ijmpgYnKYklI"
      }
    },
    {
      "cell_type": "markdown",
      "source": [
        "We find that the number of apps in Family category is 18.5% followed by Games with 9.94% and tools app with 8.55%"
      ],
      "metadata": {
        "id": "PSx9atu2YklI"
      }
    },
    {
      "cell_type": "markdown",
      "source": [
        "##### 3. Will the gained insights help creating a positive business impact?\n",
        "Are there any insights that lead to negative growth? Justify with specific reason."
      ],
      "metadata": {
        "id": "-JiQyfWJYklI"
      }
    },
    {
      "cell_type": "markdown",
      "source": [
        "We see that there are many apps in family, games and tools category, this plot can help us to understand the market size of the category in which we are trying to make our new app"
      ],
      "metadata": {
        "id": "BcBbebzrYklV"
      }
    },
    {
      "cell_type": "markdown",
      "source": [
        "#### Chart - 3"
      ],
      "metadata": {
        "id": "EM7whBJCYoAo"
      }
    },
    {
      "cell_type": "markdown",
      "source": [
        "**Comparision of users using paid app and free app**"
      ],
      "metadata": {
        "id": "paMAfI7nx4ok"
      }
    },
    {
      "cell_type": "code",
      "source": [
        "# application type distribution\n",
        "#Here we use pie plot\n",
        "fig, ax = plt.subplots(figsize=(5, 5), subplot_kw=dict(aspect=\"equal\"))\n",
        "number_of_apps = df['Type'].value_counts()\n",
        "labels = number_of_apps.index\n",
        "sizes = number_of_apps.values\n",
        "\n",
        "# plotting the same\n",
        "ax.pie(sizes,labeldistance=2,autopct='%1.1f%%')\n",
        "ax.legend(labels=labels,loc=\"right\",bbox_to_anchor=(0.9, 0, 0.5, 1))\n",
        "ax.axis(\"equal\")\n",
        "plt.title('Type Distribution')\n",
        "# plt.show()"
      ],
      "metadata": {
        "id": "t6GMdE67YoAp"
      },
      "execution_count": null,
      "outputs": []
    },
    {
      "cell_type": "markdown",
      "source": [
        "##### 1. Why did you pick the specific chart?"
      ],
      "metadata": {
        "id": "fge-S5ZAYoAp"
      }
    },
    {
      "cell_type": "markdown",
      "source": [
        "A pieplot shares the distribution of apps by their type(free or paid) very clearly."
      ],
      "metadata": {
        "id": "5dBItgRVYoAp"
      }
    },
    {
      "cell_type": "markdown",
      "source": [
        "##### 2. What is/are the insight(s) found from the chart?"
      ],
      "metadata": {
        "id": "85gYPyotYoAp"
      }
    },
    {
      "cell_type": "markdown",
      "source": [
        "We see that the total number of apps which are paid are 7.8% and rest are free."
      ],
      "metadata": {
        "id": "4jstXR6OYoAp"
      }
    },
    {
      "cell_type": "markdown",
      "source": [
        "##### 3. Will the gained insights help creating a positive business impact?\n",
        "Are there any insights that lead to negative growth? Justify with specific reason."
      ],
      "metadata": {
        "id": "RoGjAbkUYoAp"
      }
    },
    {
      "cell_type": "markdown",
      "source": [
        "It is observed that the majority of apps that are publised are free to use and very less number of apps are paid\n",
        "\n"
      ],
      "metadata": {
        "id": "zfJ8IqMcYoAp"
      }
    },
    {
      "cell_type": "markdown",
      "source": [
        "#### Chart - 4"
      ],
      "metadata": {
        "id": "4Of9eVA-YrdM"
      }
    },
    {
      "cell_type": "markdown",
      "source": [
        "**lowest raiting for the apps with respect to categories**"
      ],
      "metadata": {
        "id": "59q16O0mzgqb"
      }
    },
    {
      "cell_type": "code",
      "source": [
        "# Chart - 4 visualization code\n",
        "\n",
        "# Chart - 2 visualization code\n",
        "# heights ratings with respect to category\n",
        "category_avg_ratings = df.groupby('Category')['Rating'].min().sort_values(ascending = False)\n",
        "\n",
        "# plotting\n",
        "plt.rcParams['figure.figsize'] = (20, 5)\n",
        "plt.bar(category_avg_ratings.index, category_avg_ratings.values)\n",
        "plt.title('Minimum ratings of apps by by Category')\n",
        "plt.xlabel('Category')\n",
        "plt.ylabel('Rating')\n",
        "plt.xticks(rotation=90)\n",
        "\n",
        "plt.show()"
      ],
      "metadata": {
        "id": "irlUoxc8YrdO"
      },
      "execution_count": null,
      "outputs": []
    },
    {
      "cell_type": "markdown",
      "source": [
        "##### 1. Why did you pick the specific chart?"
      ],
      "metadata": {
        "id": "iky9q4vBYrdO"
      }
    },
    {
      "cell_type": "markdown",
      "source": [
        "we are ploting minimum values against each category, so Bar chart would be best suited for the visualization to understand whch category has lowest raitings and which has heighest"
      ],
      "metadata": {
        "id": "aJRCwT6DYrdO"
      }
    },
    {
      "cell_type": "markdown",
      "source": [
        "##### 2. What is/are the insight(s) found from the chart?"
      ],
      "metadata": {
        "id": "F6T5p64dYrdO"
      }
    },
    {
      "cell_type": "markdown",
      "source": [
        "We see that there are apps in the category that has lowest raiting and through this we can identify the category in which we can work on by exceptionally making a better app."
      ],
      "metadata": {
        "id": "Xx8WAJvtYrdO"
      }
    },
    {
      "cell_type": "markdown",
      "source": [
        "##### 3. Will the gained insights help creating a positive business impact?\n",
        "Are there any insights that lead to negative growth? Justify with specific reason."
      ],
      "metadata": {
        "id": "y-Ehk30pYrdP"
      }
    },
    {
      "cell_type": "markdown",
      "source": [
        "As a result we can see that there are many apps with lowest raiting and we have hope or chance to bring a better app to the market."
      ],
      "metadata": {
        "id": "jLNxxz7MYrdP"
      }
    },
    {
      "cell_type": "markdown",
      "source": [
        "#### Chart - 5"
      ],
      "metadata": {
        "id": "bamQiAODYuh1"
      }
    },
    {
      "cell_type": "markdown",
      "source": [
        "**Total app installs in each category**"
      ],
      "metadata": {
        "id": "gAPKQoJEz0N1"
      }
    },
    {
      "cell_type": "code",
      "source": [
        "# Chart - 5 visualization code\n",
        "Max_Installs = df.groupby(['Category'])['Installs'].sum().sort_values()\n",
        "\n",
        "#plotting\n",
        "Max_Installs.plot.barh(figsize=(20,10), color = 'c', )\n",
        "plt.ylabel('App Categories', fontsize = 15)\n",
        "plt.xlabel('Mean app Installs', fontsize = 15)\n",
        "plt.xticks()\n",
        "plt.title('Total app installs in each category', fontsize = 20)"
      ],
      "metadata": {
        "id": "TIJwrbroYuh3"
      },
      "execution_count": null,
      "outputs": []
    },
    {
      "cell_type": "markdown",
      "source": [
        "##### 1. Why did you pick the specific chart?"
      ],
      "metadata": {
        "id": "QHF8YVU7Yuh3"
      }
    },
    {
      "cell_type": "markdown",
      "source": [
        "Pie plots are usually best for sharing visually distribution of data"
      ],
      "metadata": {
        "id": "dcxuIMRPYuh3"
      }
    },
    {
      "cell_type": "markdown",
      "source": [
        "##### 2. What is/are the insight(s) found from the chart?"
      ],
      "metadata": {
        "id": "GwzvFGzlYuh3"
      }
    },
    {
      "cell_type": "markdown",
      "source": [
        "We found that most of the apps are open to be reviewed by Everyone.\n"
      ],
      "metadata": {
        "id": "uyqkiB8YYuh3"
      }
    },
    {
      "cell_type": "markdown",
      "source": [
        "##### 3. Will the gained insights help creating a positive business impact?\n",
        "Are there any insights that lead to negative growth? Justify with specific reason."
      ],
      "metadata": {
        "id": "qYpmQ266Yuh3"
      }
    },
    {
      "cell_type": "markdown",
      "source": [
        "When we see correlation between app installs and review we see that the correlation is around 0.61, which is a good to have. It is recommended to have reviews open to everyone to gain more installs"
      ],
      "metadata": {
        "id": "_WtzZ_hCYuh4"
      }
    },
    {
      "cell_type": "markdown",
      "source": [
        "#### Chart - 6"
      ],
      "metadata": {
        "id": "OH-pJp9IphqM"
      }
    },
    {
      "cell_type": "markdown",
      "source": [
        "**sentiments analysis**"
      ],
      "metadata": {
        "id": "4HPaNsGw2ii0"
      }
    },
    {
      "cell_type": "code",
      "source": [
        "#visualization code\n",
        "#importing the user Reviews CSV as user_df\n",
        "user_df = pd.read_csv(dir_path + 'User Reviews.csv')\n",
        "\n",
        "# grouping and plotting sentinments\n",
        "sentiment_group = user_df.groupby('Sentiment')\n",
        "s = sentiment_group['Sentiment'].count()\n",
        "#setting plot size\n",
        "plt.figure(figsize=(5,5))\n",
        "\n",
        "# plotting pie\n",
        "plt.pie(s, labels = s.index,  startangle = 90,autopct='%1.2f%%')\n",
        "\n",
        "#Describing details for the plots\n",
        "plt.title('Share of various sentiments')\n",
        "plt.show()"
      ],
      "metadata": {
        "id": "LgPgTVs33RFX"
      },
      "execution_count": null,
      "outputs": []
    },
    {
      "cell_type": "markdown",
      "source": [
        "##### 1. Why did you pick the specific chart?"
      ],
      "metadata": {
        "id": "bbFf2-_FphqN"
      }
    },
    {
      "cell_type": "markdown",
      "source": [
        "pie charts are better to demonstrate the proportions of the values"
      ],
      "metadata": {
        "id": "loh7H2nzphqN"
      }
    },
    {
      "cell_type": "markdown",
      "source": [
        "##### 2. What is/are the insight(s) found from the chart?"
      ],
      "metadata": {
        "id": "_ouA3fa0phqN"
      }
    },
    {
      "cell_type": "markdown",
      "source": [
        "we see that there are many apps that are having positive sentiments respect to various apps"
      ],
      "metadata": {
        "id": "VECbqPI7phqN"
      }
    },
    {
      "cell_type": "markdown",
      "source": [
        "##### 3. Will the gained insights help creating a positive business impact?\n",
        "Are there any insights that lead to negative growth? Justify with specific reason."
      ],
      "metadata": {
        "id": "Seke61FWphqN"
      }
    },
    {
      "cell_type": "markdown",
      "source": [
        "We observe that most of the apps that recied translated reviews are positive.\n"
      ],
      "metadata": {
        "id": "DW4_bGpfphqN"
      }
    },
    {
      "cell_type": "markdown",
      "source": [
        "#### Chart - 7"
      ],
      "metadata": {
        "id": "PIIx-8_IphqN"
      }
    },
    {
      "cell_type": "markdown",
      "source": [
        "**Content rating of the apps for various group of people**"
      ],
      "metadata": {
        "id": "dqU47DCkq_0c"
      }
    },
    {
      "cell_type": "code",
      "source": [
        "# Chart - 7 visualization code\n",
        "# Content rating of the apps for diff age group of people\n",
        "data = df['Content Rating'].value_counts()\n",
        "labels = ['Everyone', 'Teen', 'Everyone 10+', 'Mature 17+','Adults only 18+', 'Unrated']\n",
        "\n",
        "#create pie chart\n",
        "plt.figure(figsize=(6,6))\n",
        "explode=(0,0.1,0.1,0.1,0.0,1.3)\n",
        "color = ['C4', 'r', 'c', 'g', 'm', 'k']\n",
        "plt.pie(data, labels = labels, colors = color, autopct='%.2f%%',explode=explode,textprops={'fontsize': 8})\n",
        "plt.title('Content Rating')\n",
        "# plt.legend()\n"
      ],
      "metadata": {
        "id": "lqAIGUfyphqO"
      },
      "execution_count": null,
      "outputs": []
    },
    {
      "cell_type": "markdown",
      "source": [
        "##### 1. Why did you pick the specific chart?"
      ],
      "metadata": {
        "id": "t27r6nlMphqO"
      }
    },
    {
      "cell_type": "markdown",
      "source": [
        "Pie plots are usually best for sharing visually distribution of data."
      ],
      "metadata": {
        "id": "iv6ro40sphqO"
      }
    },
    {
      "cell_type": "markdown",
      "source": [
        "##### 2. What is/are the insight(s) found from the chart?"
      ],
      "metadata": {
        "id": "r2jJGEOYphqO"
      }
    },
    {
      "cell_type": "markdown",
      "source": [
        "We found that most of the apps are open to be reviewed by Everyone."
      ],
      "metadata": {
        "id": "Po6ZPi4hphqO"
      }
    },
    {
      "cell_type": "markdown",
      "source": [
        "##### 3. Will the gained insights help creating a positive business impact?\n",
        "Are there any insights that lead to negative growth? Justify with specific reason."
      ],
      "metadata": {
        "id": "b0JNsNcRphqO"
      }
    },
    {
      "cell_type": "markdown",
      "source": [
        "When we see correlation between app installs and review we see that the correlation is around 0.61, which is a good to have. It is recommended to have reviews open to everyone to gain more installs."
      ],
      "metadata": {
        "id": "xvSq8iUTphqO"
      }
    },
    {
      "cell_type": "markdown",
      "source": [
        "#### Chart - 8"
      ],
      "metadata": {
        "id": "BZR9WyysphqO"
      }
    },
    {
      "cell_type": "markdown",
      "source": [
        "**Paid app counts with respect to price (excluding free apps)**"
      ],
      "metadata": {
        "id": "za0dJAQmrJJ3"
      }
    },
    {
      "cell_type": "code",
      "source": [
        "# Chart - 8 visualization code\n",
        "#the plot shows the paid app counts with respect to price excluding free apps\n",
        "\n",
        "free_app_value = 0\n",
        "plt.rcParams['figure.figsize'] = (20, 5)\n",
        "df_without_free_apps = df['Price'] != free_app_value\n",
        "sns.countplot(data=df[df_without_free_apps], x='Price')\n",
        "\n",
        "plt.xticks(rotation=90)\n",
        "plt.title('price wise Paid app counts')\n",
        "plt.xlabel('Price')\n",
        "plt.ylabel('Count')\n",
        "plt.show()"
      ],
      "metadata": {
        "id": "TdPTWpAVphqO"
      },
      "execution_count": null,
      "outputs": []
    },
    {
      "cell_type": "markdown",
      "source": [
        "##### 1. Why did you pick the specific chart?"
      ],
      "metadata": {
        "id": "jj7wYXLtphqO"
      }
    },
    {
      "cell_type": "markdown",
      "source": [
        "A seaborn count plot shows counts of the app with respect to various values, here we wanted to know the counts of apps with price not equal to 0, so we used the above chart."
      ],
      "metadata": {
        "id": "Ob8u6rCTphqO"
      }
    },
    {
      "cell_type": "markdown",
      "source": [
        "##### 2. What is/are the insight(s) found from the chart?"
      ],
      "metadata": {
        "id": "eZrbJ2SmphqO"
      }
    },
    {
      "cell_type": "markdown",
      "source": [
        "we see that max app belong to price = 0.99 Followed by 2.99."
      ],
      "metadata": {
        "id": "mZtgC_hjphqO"
      }
    },
    {
      "cell_type": "markdown",
      "source": [
        "##### 3. Will the gained insights help creating a positive business impact?\n",
        "Are there any insights that lead to negative growth? Justify with specific reason."
      ],
      "metadata": {
        "id": "rFu4xreNphqO"
      }
    },
    {
      "cell_type": "markdown",
      "source": [
        "It is observed that there many apps are released with amount = 0.99 and 2.99\n",
        "\n",
        "It would be a good practice if we can make sure the app falls in this price range to make sure the apps are affordable."
      ],
      "metadata": {
        "id": "ey_0qi68phqO"
      }
    },
    {
      "cell_type": "markdown",
      "source": [
        "#### Chart - 9"
      ],
      "metadata": {
        "id": "YJ55k-q6phqO"
      }
    },
    {
      "cell_type": "markdown",
      "source": [
        "**Ratings wrt Category (Box plot)**"
      ],
      "metadata": {
        "id": "ojfBShvireO9"
      }
    },
    {
      "cell_type": "code",
      "source": [
        "# Chart - 9 visualization code\n",
        "plt.xticks(rotation=90)\n",
        "plt.rcParams['figure.figsize'] = (15, 5)\n",
        "\n",
        "#Plot Code\n",
        "sns.boxplot(data=df, x=\"Category\", y=\"Rating\")\n",
        "\n",
        "#Describing details for the plots\n",
        "plt.title('Ratings with respect to various categories')\n",
        "plt.xlabel('Category')\n",
        "plt.ylabel('Rating')"
      ],
      "metadata": {
        "id": "B2aS4O1ophqO"
      },
      "execution_count": null,
      "outputs": []
    },
    {
      "cell_type": "markdown",
      "source": [
        "##### 1. Why did you pick the specific chart?"
      ],
      "metadata": {
        "id": "gCFgpxoyphqP"
      }
    },
    {
      "cell_type": "markdown",
      "source": [
        "Boxplots provides a concise summary of measures such as the median, quartiles, and outliers.\n",
        "\n",
        "This makes it easy to compare multiple datasets quickly and identify any differences or similarities.\n",
        "\n"
      ],
      "metadata": {
        "id": "TVxDimi2phqP"
      }
    },
    {
      "cell_type": "markdown",
      "source": [
        "##### 2. What is/are the insight(s) found from the chart?"
      ],
      "metadata": {
        "id": "OVtJsKN_phqQ"
      }
    },
    {
      "cell_type": "markdown",
      "source": [
        "Communication and events have their medians outside the box, which means the ratings recieved are not skewed\n",
        "\n",
        "There are many outliers in various category."
      ],
      "metadata": {
        "id": "ngGi97qjphqQ"
      }
    },
    {
      "cell_type": "markdown",
      "source": [
        "##### 3. Will the gained insights help creating a positive business impact?\n",
        "Are there any insights that lead to negative growth? Justify with specific reason."
      ],
      "metadata": {
        "id": "lssrdh5qphqQ"
      }
    },
    {
      "cell_type": "markdown",
      "source": [
        "The outliers below the boxes show that various apps in category are having a bad reviews so there is room for placing our app with better features in the categories with more wiskers in box plot below the boxes."
      ],
      "metadata": {
        "id": "tBpY5ekJphqQ"
      }
    },
    {
      "cell_type": "markdown",
      "source": [
        "#### Chart - 10"
      ],
      "metadata": {
        "id": "U2RJ9gkRphqQ"
      }
    },
    {
      "cell_type": "markdown",
      "source": [
        "**Distribution of ratings across various apps**"
      ],
      "metadata": {
        "id": "HzQ7aoVer1FY"
      }
    },
    {
      "cell_type": "code",
      "source": [
        "# Chart - 10 visualization code\n",
        "plt.rcParams['figure.figsize'] = (20, 5)\n",
        "sns.histplot(df, x='Rating', kde=True)\n",
        "\n",
        "#Describing details for the plots\n",
        "plt.title('Spread of various ratings across all the apps')\n",
        "plt.xlabel('Rating')\n",
        "plt.ylabel('Count')"
      ],
      "metadata": {
        "id": "GM7a4YP4phqQ"
      },
      "execution_count": null,
      "outputs": []
    },
    {
      "cell_type": "markdown",
      "source": [
        "##### 1. Why did you pick the specific chart?"
      ],
      "metadata": {
        "id": "1M8mcRywphqQ"
      }
    },
    {
      "cell_type": "markdown",
      "source": [
        "Hist plots are better to analyze distribution of numeric values.\n"
      ],
      "metadata": {
        "id": "8agQvks0phqQ"
      }
    },
    {
      "cell_type": "markdown",
      "source": [
        "##### 2. What is/are the insight(s) found from the chart?"
      ],
      "metadata": {
        "id": "tgIPom80phqQ"
      }
    },
    {
      "cell_type": "markdown",
      "source": [
        "we see that most of the apps have a rating of 4.25."
      ],
      "metadata": {
        "id": "Qp13pnNzphqQ"
      }
    },
    {
      "cell_type": "markdown",
      "source": [
        "##### 3. Will the gained insights help creating a positive business impact?\n",
        "Are there any insights that lead to negative growth? Justify with specific reason."
      ],
      "metadata": {
        "id": "JMzcOPDDphqR"
      }
    },
    {
      "cell_type": "markdown",
      "source": [
        "since most of the apps have 4.2 rating, there is an opportunity to have a better app that could fit the market needs."
      ],
      "metadata": {
        "id": "R4Ka1PC2phqR"
      }
    },
    {
      "cell_type": "markdown",
      "source": [
        "#### Chart - 11"
      ],
      "metadata": {
        "id": "x-EpHcCOp1ci"
      }
    },
    {
      "cell_type": "code",
      "source": [
        "# Chart - 11 visualization code\n",
        "merge_df =pd.merge(df,user_df,how='inner',on='App')\n",
        "App_Cat_df = merge_df.groupby(['App','Category'])['Translated_Review'].count().reset_index()\n",
        "App_Cat_df = pd.DataFrame(App_Cat_df)\n",
        "App_Cat_df = App_Cat_df.sort_values(by=['Translated_Review'], ascending=False)\n",
        "App_Cat_df.head(10)\n"
      ],
      "metadata": {
        "id": "mAQTIvtqp1cj"
      },
      "execution_count": null,
      "outputs": []
    },
    {
      "cell_type": "markdown",
      "source": [
        "##### 1. Why did you pick the specific chart?"
      ],
      "metadata": {
        "id": "X_VqEhTip1ck"
      }
    },
    {
      "cell_type": "markdown",
      "source": [
        "ANS:Here we are viewing the apps that recieved max translated reviews.\n",
        "\n"
      ],
      "metadata": {
        "id": "-vsMzt_np1ck"
      }
    },
    {
      "cell_type": "markdown",
      "source": [
        "##### 2. What is/are the insight(s) found from the chart?"
      ],
      "metadata": {
        "id": "8zGJKyg5p1ck"
      }
    },
    {
      "cell_type": "markdown",
      "source": [
        "ANS: we see that mostly the translated reviews are recieved by the Game category"
      ],
      "metadata": {
        "id": "ZYdMsrqVp1ck"
      }
    },
    {
      "cell_type": "markdown",
      "source": [
        "##### 3. Will the gained insights help creating a positive business impact?\n",
        "Are there any insights that lead to negative growth? Justify with specific reason."
      ],
      "metadata": {
        "id": "PVzmfK_Ep1ck"
      }
    },
    {
      "cell_type": "markdown",
      "source": [
        "ANS: Game category has most number of translated reviews.\n",
        "\n"
      ],
      "metadata": {
        "id": "druuKYZpp1ck"
      }
    },
    {
      "cell_type": "markdown",
      "source": [
        "#### Chart - 12"
      ],
      "metadata": {
        "id": "n3dbpmDWp1ck"
      }
    },
    {
      "cell_type": "markdown",
      "source": [
        "**Translated Reviews by categories**"
      ],
      "metadata": {
        "id": "uUYfqGxtti9-"
      }
    },
    {
      "cell_type": "code",
      "source": [
        "# Chart - 12 visualization code\n",
        "plt.figure(figsize=(20, 5))\n",
        "\n",
        "#plotting\n",
        "sns.countplot(data = App_Cat_df, x = App_Cat_df['Category'])\n",
        "\n",
        "# Setting attributes to infer the plot\n",
        "plt.title('number of translated reviews by category')\n",
        "plt.ylabel('Number of Translated Review')\n",
        "plt.xlabel('Category')\n",
        "plt.xticks(rotation=90)\n",
        "plt.show()\n",
        ""
      ],
      "metadata": {
        "id": "bwevp1tKp1ck"
      },
      "execution_count": null,
      "outputs": []
    },
    {
      "cell_type": "markdown",
      "source": [
        "##### 1. Why did you pick the specific chart?"
      ],
      "metadata": {
        "id": "ylSl6qgtp1ck"
      }
    },
    {
      "cell_type": "markdown",
      "source": [
        "A count plot shows better repersentation of the counts with respect to their categories\n",
        "\n"
      ],
      "metadata": {
        "id": "m2xqNkiQp1ck"
      }
    },
    {
      "cell_type": "markdown",
      "source": [
        "##### 2. What is/are the insight(s) found from the chart?"
      ],
      "metadata": {
        "id": "ZWILFDl5p1ck"
      }
    },
    {
      "cell_type": "markdown",
      "source": [
        "We found that the games have recied highest number of counts recieved followed by Family, however the comics weather and events apps have recieved less reviews in the category."
      ],
      "metadata": {
        "id": "x-lUsV2mp1ck"
      }
    },
    {
      "cell_type": "markdown",
      "source": [
        "##### 3. Will the gained insights help creating a positive business impact?\n",
        "Are there any insights that lead to negative growth? Justify with specific reason."
      ],
      "metadata": {
        "id": "M7G43BXep1ck"
      }
    },
    {
      "cell_type": "markdown",
      "source": [
        "Family and games category have recieved more number of translated reviews."
      ],
      "metadata": {
        "id": "5wwDJXsLp1cl"
      }
    },
    {
      "cell_type": "markdown",
      "source": [
        "#### Chart - 13"
      ],
      "metadata": {
        "id": "Ag9LCva-p1cl"
      }
    },
    {
      "cell_type": "markdown",
      "source": [
        "**Sentiment Visualization for GAME, FAMILY, COMMUNICATION, LIBRARIES AND DEMO**"
      ],
      "metadata": {
        "id": "r1YHc7obXQBy"
      }
    },
    {
      "cell_type": "code",
      "source": [
        "# Chart - 13 visualization code\n",
        "df.Category.unique()"
      ],
      "metadata": {
        "id": "EUfxeq9-p1cl"
      },
      "execution_count": null,
      "outputs": []
    },
    {
      "cell_type": "code",
      "source": [
        "x=['GAME','FAMILY','SOCIAL', 'LIBRARIES AND DEMO']\n",
        "#we can choose any category and include in the x variable\n",
        "\n",
        "fig, axes = plt.subplots(1, len(x), figsize=(20, 5))\n",
        "\n",
        "for i, category in enumerate(x):\n",
        "    temp_df = merge_df[merge_df['Category'] == category]\n",
        "    sns.countplot(data=temp_df, x='Sentiment', ax=axes[i])\n",
        "    axes[i].set_title(category)\n",
        "\n",
        "fig.suptitle('Sentiment Analysis by Category')\n",
        "\n",
        "# Show the plot\n",
        "plt.show()"
      ],
      "metadata": {
        "id": "1BISs5ncX17u"
      },
      "execution_count": null,
      "outputs": []
    },
    {
      "cell_type": "markdown",
      "source": [
        "##### 1. Why did you pick the specific chart?"
      ],
      "metadata": {
        "id": "E6MkPsBcp1cl"
      }
    },
    {
      "cell_type": "markdown",
      "source": [
        "Count plots are best suited to plot the counts of various rows and plot. This helps in Visually intrepreting the various counts"
      ],
      "metadata": {
        "id": "V22bRsFWp1cl"
      }
    },
    {
      "cell_type": "markdown",
      "source": [
        "##### 2. What is/are the insight(s) found from the chart?"
      ],
      "metadata": {
        "id": "2cELzS2fp1cl"
      }
    },
    {
      "cell_type": "markdown",
      "source": [
        "GAME, FAMILY, SOCIAL, LIBRARIES AND DEMO we see that mostly the apps have positive sentiments towards the given categories"
      ],
      "metadata": {
        "id": "ozQPc2_Ip1cl"
      }
    },
    {
      "cell_type": "markdown",
      "source": [
        "##### 3. Will the gained insights help creating a positive business impact?\n",
        "Are there any insights that lead to negative growth? Justify with specific reason."
      ],
      "metadata": {
        "id": "3MPXvC8up1cl"
      }
    },
    {
      "cell_type": "markdown",
      "source": [
        "ANS: The above charts show that most of the apps in category GAME, FAMILY, SOCIAL, LIBRARIES AND DEMO are having a positive sentiment\n",
        "\n",
        "We can infer that social app category has approximatly 50% of negative sentiments."
      ],
      "metadata": {
        "id": "GL8l1tdLp1cl"
      }
    },
    {
      "cell_type": "markdown",
      "source": [
        "#### Chart - 14 - Correlation Heatmap"
      ],
      "metadata": {
        "id": "NC_X3p0fY2L0"
      }
    },
    {
      "cell_type": "code",
      "source": [
        "# Correlation Heatmap visualization code\n",
        "corr_matrix = df.corr()\n",
        "\n",
        "# Plot heatmap\n",
        "sns.heatmap(corr_matrix, annot=True, cmap='inferno')\n",
        "\n",
        "#setting labels to infer the plot\n",
        "plt.title('Correlation Matrix heatmap')\n",
        "plt.ylabel('Feature/Property')\n",
        "plt.xlabel('Feature/Property')\n"
      ],
      "metadata": {
        "id": "xyC9zolEZNRQ"
      },
      "execution_count": null,
      "outputs": []
    },
    {
      "cell_type": "markdown",
      "source": [
        "##### 1. Why did you pick the specific chart?"
      ],
      "metadata": {
        "id": "UV0SzAkaZNRQ"
      }
    },
    {
      "cell_type": "markdown",
      "source": [
        "The best way to plot a correlation matrix is by having a heatmap useing the seaborn Library.\n",
        "\n",
        "The values in the matrix range from -1 to 1, and represent the strength and direction of the correlation between two variables. A correlation coefficient of -1 indicates a perfect negative correlation, a coefficient of 0 indicates no correlation, and a coefficient of 1 indicates a perfect positive correlation."
      ],
      "metadata": {
        "id": "DVPuT8LYZNRQ"
      }
    },
    {
      "cell_type": "markdown",
      "source": [
        "##### 2. What is/are the insight(s) found from the chart?"
      ],
      "metadata": {
        "id": "YPEH6qLeZNRQ"
      }
    },
    {
      "cell_type": "markdown",
      "source": [
        "We see that the correlation between Installs and Price is 0.63 which is good, It means that when there are more reviews on any app the more people tend to install the app. so its a better idea to get reviews on the app.\n",
        "\n",
        "This gained insights are very helpfull to grow a business as we can add the feature to get reviews on the app and this shall help the app to grow."
      ],
      "metadata": {
        "id": "bfSqtnDqZNRR"
      }
    },
    {
      "cell_type": "markdown",
      "source": [
        "#### Chart - 15 - Pair Plot"
      ],
      "metadata": {
        "id": "q29F0dvdveiT"
      }
    },
    {
      "cell_type": "code",
      "source": [
        "# Correlation Heatmap visualization code\n",
        "# Pair Plot visualization code\n",
        "sns.pairplot(df, diag_kind=\"kde\", kind = 'reg', hue = 'Type')\n",
        "\n",
        "#setting labels to infer the plot\n",
        "plt.title('Pair Plot')\n",
        "plt.ylabel('Feature/Property')\n",
        "plt.xlabel('Feature/Property')"
      ],
      "metadata": {
        "id": "o58-TEIhveiU"
      },
      "execution_count": null,
      "outputs": []
    },
    {
      "cell_type": "markdown",
      "source": [
        "##### 1. Why did you pick the specific chart?"
      ],
      "metadata": {
        "id": "EXh0U9oCveiU"
      }
    },
    {
      "cell_type": "markdown",
      "source": [
        "Pair plots are used to show relationship between various variables\n",
        "\n",
        "Pair plots can also help us explore the distribution of variables in your dataset.\n",
        "\n"
      ],
      "metadata": {
        "id": "eMmPjTByveiU"
      }
    },
    {
      "cell_type": "markdown",
      "source": [
        "##### 2. What is/are the insight(s) found from the chart?"
      ],
      "metadata": {
        "id": "22aHeOlLveiV"
      }
    },
    {
      "cell_type": "markdown",
      "source": [
        "we find that there is a relation between the reviews and installs, the max installs the max reviews we get, the regression lines is liner and increases as (x=y approximatly)\n",
        "\n",
        "The installs doesn't grow as the price increases.\n",
        "\n",
        "size and installs does not have relation.\n",
        "\n",
        "the diagonal graphs show the kde plotted wrt the own feature, it is noted that the diagonal plots doesnot follow the scale.\n",
        "\n"
      ],
      "metadata": {
        "id": "uPQ8RGwHveiV"
      }
    },
    {
      "cell_type": "markdown",
      "source": [
        "## Chart - 16\n"
      ],
      "metadata": {
        "id": "ys1D7PWBZCdJ"
      }
    },
    {
      "cell_type": "markdown",
      "source": [
        "**Segmentation of apps by size as extra large, large, medieum and lite size**"
      ],
      "metadata": {
        "id": "fhnM6gaBZJw8"
      }
    },
    {
      "cell_type": "code",
      "source": [
        "# Chart - 16 visualization code\n",
        "min_size = df.Size.min()\n",
        "max_size = df.Size.max()\n",
        "\n",
        "def group_by_size(val):\n",
        "  ''''\n",
        "  This function help to categories the size from 101304 to 0\n",
        "  as Extra Large App, Large App, Medium Size App and Lite Size App\n",
        "  '''\n",
        "  if val>=((max_size/4)*3):\n",
        "    return 'Extra Large App'\n",
        "  elif val >= ((max_size/4)*2)  and val<((max_size/4)*3):\n",
        "    return 'Large App'\n",
        "  elif val >= (max_size/4) and val<((max_size/4)*2):\n",
        "    return 'Medium Size App'\n",
        "  else:\n",
        "    return 'Lite Size App'"
      ],
      "metadata": {
        "id": "7KOF1QdFZDhh"
      },
      "execution_count": null,
      "outputs": []
    },
    {
      "cell_type": "code",
      "source": [
        "df['Size Groups'] = df['Size'].apply(group_by_size)"
      ],
      "metadata": {
        "id": "wdsXMkTVZYJ4"
      },
      "execution_count": null,
      "outputs": []
    },
    {
      "cell_type": "code",
      "source": [
        "plt.rcParams['figure.figsize'] = (20, 5)\n",
        "size_group_df = df.groupby(['Size Groups'])['Installs'].sum()\n",
        "size_group_df.plot.pie(autopct='%1.2f%%')\n",
        "\n",
        "#setting labels to infer the plot\n",
        "plt.title('share of apps based on basis of size categories defined by us')"
      ],
      "metadata": {
        "id": "KuCN9eTRZbC_"
      },
      "execution_count": null,
      "outputs": []
    },
    {
      "cell_type": "markdown",
      "source": [
        "\n",
        "# Chart - 17 visualization code"
      ],
      "metadata": {
        "id": "cS0sog71Y4rd"
      }
    },
    {
      "cell_type": "markdown",
      "source": [
        "**Segmentation of apps by size with respect to categories as extra large, large, medieum and lite size**\n"
      ],
      "metadata": {
        "id": "YvXj4r_YZhce"
      }
    },
    {
      "cell_type": "code",
      "source": [
        "plt.rcParams['figure.figsize'] = (20, 5)\n",
        "size_groupby_Categories_df = df.groupby(['Category', 'Size Groups'])['Installs'].sum().unstack()\n",
        "\n",
        "size_groupby_Categories_df.plot.bar()\n",
        "plt.title('segmentation of app install counts with respect to categories')\n",
        "plt.xlabel('Apps By Categories')\n",
        "plt.ylabel('Total Installs in Billions')"
      ],
      "metadata": {
        "id": "j63Vq-b5Y3sD"
      },
      "execution_count": null,
      "outputs": []
    },
    {
      "cell_type": "markdown",
      "source": [
        "1. Why did you pick the specific chart?\n",
        "\n"
      ],
      "metadata": {
        "id": "UocAlDz-Zssk"
      }
    },
    {
      "cell_type": "markdown",
      "source": [
        "Bar plot is bets suited to visualize the numbers against a categorical values.\n"
      ],
      "metadata": {
        "id": "th01JNEJZsWM"
      }
    },
    {
      "cell_type": "markdown",
      "source": [
        "\n",
        "2. What is/are the insight(s) found from the chart?\n"
      ],
      "metadata": {
        "id": "9K17h6goZrvF"
      }
    },
    {
      "cell_type": "markdown",
      "source": [],
      "metadata": {
        "id": "jkP4y9hSZrql"
      }
    },
    {
      "cell_type": "markdown",
      "source": [
        "ANS: We see that most of the gaming apps are of all the size category and comunication apps are preferred to be made of lite size.\n",
        "\n",
        "also looking at trends we see most of the apps are tried to be made lite as it would lead to be a better option."
      ],
      "metadata": {
        "id": "ptFiWJvZZrmM"
      }
    },
    {
      "cell_type": "markdown",
      "source": [
        "## **5. Solution to Business Objective**"
      ],
      "metadata": {
        "id": "JcMwzZxoAimU"
      }
    },
    {
      "cell_type": "markdown",
      "source": [
        "#### What do you suggest the client to achieve Business Objective ?\n",
        "Explain Briefly."
      ],
      "metadata": {
        "id": "8G2x9gOozGDZ"
      }
    },
    {
      "cell_type": "markdown",
      "source": [
        "The objective of this project is to deliver insights to understand customer demands better and thus help developers to popularize the product. It is of 10k Play Store apps for analyzing the Android market. This dataset contains details of different applications and reviews from different users.\n",
        "\n",
        "The google play store  apps report some useful details regarding the trending of apps in play store . The dataset provided to us includes categories of the apps like gaming,communication , family and so on.BUt the mostly used apps are in the category of family. It is because these are most probably have the nature of entertain. It also shows shows the good trend where we can see that developers from these catrgory are focing on quality rather than quantity.\n",
        "\n",
        "Other than that, the charts shown above actually implies that most of the apps having good ratings of above 4.0 are mostly confirmed to have high amount of reviews and user installs. The size and price shouldn't reflect that apps with high rating are mostly big in size and pricy as by looking at the graphs they are most probably are due to some minority. Futhermore, most of the apps that are having high amount of reviews are from the categories of SOCIAL, COMMUNICATION and GAME like Facebook, WhatsApp Messenger, Instagram, Messenger – Text and Video Chat for Free, Clash of Clans ,google apps etc.\n",
        "\n",
        "Eventhough apps from the categories like GAME, SOCIAL, COMMUNICATION and TOOL of having the highest amount of installs, rating and reviews are reflecting the current trend of Android users, they are not even appearing as category in the top 5 most expensive apps in the store . As a conclsuion, we learnt that the current trend in the Android market are mostly from these categories which either assisting, communicating or entertaining apps.\n",
        "\n",
        "Some important point:- Average rating of (active) apps on Google Play Store is 4.17.\n",
        "\n",
        "If we see individually app wise the communicatation app like facebook and whatsup get highly reviewed app it shown that people regulary active on that and give there feedback also on that.\n",
        "\n",
        "Medical and Family apps are the most expensive and even extend upto 80$. Users tend to download a given app more if it has been reviewed by a large number of people.\n",
        "\n",
        "More than half users rate Family, Sports and Health & Fitness apps positively. Apps for games and social media get mixed reviews, with 50 percent positive and 50 percent negative responses.\n",
        "\n",
        "\n",
        "\n"
      ],
      "metadata": {
        "id": "pASKb0qOza21"
      }
    },
    {
      "cell_type": "markdown",
      "source": [
        "# **Conclusion**"
      ],
      "metadata": {
        "id": "gCX9965dhzqZ"
      }
    },
    {
      "cell_type": "markdown",
      "source": [
        "In this project of analyzing play store applications, we have worked on several parameters which would help our client to do well in launching their apps on the play store.\n",
        "\n",
        "In the initial phase, we focused more on the problem statements and data cleaning, in order to ensure that we give them the best results out of our analysis.\n",
        "\n",
        "Conclusion :\n",
        "\n",
        "Developing apps related to the least categories as they are not explored much. Like events and beauty.\n",
        "\n",
        "Most of the apps are Free, so focusing on free app is more important.\n",
        "\n",
        "Focusing more on content available for Everyone will increase the chances of getting the highest installs.\n",
        "\n",
        "They need to focus on updating their apps regularly, so that it will attract more users.\n",
        "\n",
        "They need to keep in mind that the sentiments of the user keep varying as they keep using the app, so they should focus more on users needs and features.\n",
        "\n",
        "Percentage of free apps = ~92%\n",
        "\n",
        "Percentage of apps with no age restrictions = ~82%\n",
        "\n",
        "Most competitive category: Family\n",
        "\n",
        "Category with the highest average app installs: Game\n",
        "\n",
        "Percentage of apps that are top rated = ~80%\n",
        "\n",
        "Family, Game and Tools are top three categories having 1906, 926 and 829 app count.\n",
        "\n",
        "Tools, Entertainment, Education, Buisness and Medical are top Genres.\n",
        "\n",
        "8783 Apps are having size less than 50 MB. 7749 Apps are having rating more than 4.0 including both type of apps.\n",
        "\n",
        "There are 20 free apps that have been installed over a billion times.\n",
        "\n",
        "Minecraft is the only app in the paid category with over 10M installs. This app has also produced the most revenue only from the installation fee.\n",
        "\n",
        "Category in which the paid apps have the highest average installation fee: Finance The median size of all apps in the play store is 12 MB.\n",
        "\n",
        "The apps whose size varies with device has the highest number average app installs.\n",
        "\n",
        "The apps whose size is greater than 90 MB has the highest number of average user reviews, ie, they are more popular than the rest.\n",
        "\n",
        "Helix Jump has the highest number of positive reviews and Angry Birds Classic has the highest number of negative reviews.\n",
        "\n",
        "Overall sentiment count of merged dataset in which Positive sentiment count is 64%, Negative 22% and Neutral 13%.\n",
        "\n",
        "1. Rating\n",
        "\n",
        "Most of the apps have rating in between 4 and 5.\n",
        "\n",
        "Most numbers of apps are rated at 4.3\n",
        "\n",
        "Categories of apps have more than 4 average rating.item\n",
        "\n",
        "2. Size\n",
        "\n",
        "Maximum number of applications present in the dataset are of small size.\n",
        "\n",
        "3. Installs\n",
        "\n",
        "Majority of the apps come into these three categories, Family, Game, and Tools.\n",
        "\n",
        "Maximum number of apps present in google play store come under Family, Game and tools but as per the installation and requirement in the market plot, scenario is not the same. Maximum installed apps comes under Game, Communication, Productivity and Social.\n",
        "\n",
        "Subway Surfers, Facebook, Messenger and Google Drive are the most installed apps.\n",
        "\n",
        "4. Type(Free/Paid)\n",
        "\n",
        "About 92% apps are free and 8% apps are of paid type.\n",
        "\n",
        "The category ‘Family’ has the highest number of paid apps.\n",
        "\n",
        "Free apps are installed more than paid apps.\n",
        "\n",
        "The app “I’m Rich — Trump Edition” from the category ‘Lifestyle’ is the most costly app priced at $400\n",
        "\n",
        "5. Content Rating\n",
        "\n",
        "Content having Everyone only has most installs, while unrated and Adults only 18+ have less installs.\n",
        "\n",
        "6.Reviews\n",
        "\n",
        "Number of installs is positively correlated with reviews with correlation 0.64. Sentiment Analysis\n",
        "\n",
        "7. Sentiment\n",
        "\n",
        "Most of the reviews are of Positive Sentiment, while Negative and Neutral have low number of reviews.\n",
        "\n",
        "8. Sentiment Polarity / Sentiment Subjectivity\n",
        "\n",
        "Collection of reviews shows a wide range of subjectivity and most of the reviews fall in [-0.50,0.75] polarity scale implying that the extremely negative or positive sentiments are significantly low. Most of the reviews show a mid-range of negative and positive sentiments.\n",
        "\n",
        "Sentiment subjectivity is not always proportional to sentiment polarity but in maximum number of case, shows a proportional behavior, when variance is too high or low.\n",
        "\n",
        "Sentiment Polarity is not highly correlated with Sentiment Subjectivity."
      ],
      "metadata": {
        "id": "Fjb1IsQkh3yE"
      }
    },
    {
      "cell_type": "markdown",
      "source": [
        "### ***Hurrah! You have successfully completed your EDA Capstone Project !!!***"
      ],
      "metadata": {
        "id": "gIfDvo9L0UH2"
      }
    }
  ]
}